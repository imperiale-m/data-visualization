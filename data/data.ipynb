{
 "cells": [
  {
   "cell_type": "code",
   "execution_count": 83,
   "outputs": [],
   "source": [
    "import json\n",
    "import pandas as pd\n",
    "import geopandas as gpd\n",
    "import numpy as np"
   ],
   "metadata": {
    "collapsed": false
   }
  },
  {
   "cell_type": "code",
   "execution_count": 84,
   "outputs": [],
   "source": [
    "path = \"./geo_data_trees.geojson\""
   ],
   "metadata": {
    "collapsed": false
   }
  },
  {
   "cell_type": "code",
   "execution_count": 85,
   "outputs": [],
   "source": [
    "with open(path, 'r') as f:\n",
    "    data = json.load(f)"
   ],
   "metadata": {
    "collapsed": false
   }
  },
  {
   "cell_type": "code",
   "execution_count": 86,
   "outputs": [],
   "source": [
    "df = []\n",
    "for i in range(len(data[\"features\"])):\n",
    "    props = data[\"features\"][i][\"properties\"]\n",
    "    df.append(props)"
   ],
   "metadata": {
    "collapsed": false
   }
  },
  {
   "cell_type": "code",
   "execution_count": 87,
   "outputs": [],
   "source": [
    "# Normalize the data\n",
    "df = pd.json_normalize(df)"
   ],
   "metadata": {
    "collapsed": false
   }
  },
  {
   "cell_type": "code",
   "execution_count": 88,
   "outputs": [
    {
     "data": {
      "text/plain": "   Tree ID                 Name DBH (cm) Replacement Value (eur)  \\\n0      1.0  Acer pseudoplatanus        8                  179.43   \n\n  Carbon Storage (kg) Carbon Storage (eur) Gross Carbon Sequestration (kg/yr)  \\\n0                  12                 1.92                                1.1   \n\n  Gross Carbon Sequestration (eur/yr) Avoided Runoff (mcube/yr)  \\\n0                                0.17                         0   \n\n  Avoided Runoff (eur/yr)  ... Total Annual Benefits (eur/yr)  \\\n0                    0.01  ...                           0.21   \n\n  Oxygen Production (kg/yr) Height (m) Crown Height (m) Crown Width (m)  \\\n0                       2.8        3.5                1             1.5   \n\n  Canopy Cover (m2) Leaf Area (m2) Leaf Biomass (kg)   Latitude  Longitude  \n0               1.8            3.5               0.2  46.051599  11.072014  \n\n[1 rows x 25 columns]",
      "text/html": "<div>\n<style scoped>\n    .dataframe tbody tr th:only-of-type {\n        vertical-align: middle;\n    }\n\n    .dataframe tbody tr th {\n        vertical-align: top;\n    }\n\n    .dataframe thead th {\n        text-align: right;\n    }\n</style>\n<table border=\"1\" class=\"dataframe\">\n  <thead>\n    <tr style=\"text-align: right;\">\n      <th></th>\n      <th>Tree ID</th>\n      <th>Name</th>\n      <th>DBH (cm)</th>\n      <th>Replacement Value (eur)</th>\n      <th>Carbon Storage (kg)</th>\n      <th>Carbon Storage (eur)</th>\n      <th>Gross Carbon Sequestration (kg/yr)</th>\n      <th>Gross Carbon Sequestration (eur/yr)</th>\n      <th>Avoided Runoff (mcube/yr)</th>\n      <th>Avoided Runoff (eur/yr)</th>\n      <th>...</th>\n      <th>Total Annual Benefits (eur/yr)</th>\n      <th>Oxygen Production (kg/yr)</th>\n      <th>Height (m)</th>\n      <th>Crown Height (m)</th>\n      <th>Crown Width (m)</th>\n      <th>Canopy Cover (m2)</th>\n      <th>Leaf Area (m2)</th>\n      <th>Leaf Biomass (kg)</th>\n      <th>Latitude</th>\n      <th>Longitude</th>\n    </tr>\n  </thead>\n  <tbody>\n    <tr>\n      <th>0</th>\n      <td>1.0</td>\n      <td>Acer pseudoplatanus</td>\n      <td>8</td>\n      <td>179.43</td>\n      <td>12</td>\n      <td>1.92</td>\n      <td>1.1</td>\n      <td>0.17</td>\n      <td>0</td>\n      <td>0.01</td>\n      <td>...</td>\n      <td>0.21</td>\n      <td>2.8</td>\n      <td>3.5</td>\n      <td>1</td>\n      <td>1.5</td>\n      <td>1.8</td>\n      <td>3.5</td>\n      <td>0.2</td>\n      <td>46.051599</td>\n      <td>11.072014</td>\n    </tr>\n  </tbody>\n</table>\n<p>1 rows × 25 columns</p>\n</div>"
     },
     "execution_count": 88,
     "metadata": {},
     "output_type": "execute_result"
    }
   ],
   "source": [
    "df.head(1)"
   ],
   "metadata": {
    "collapsed": false
   }
  },
  {
   "cell_type": "code",
   "execution_count": 89,
   "outputs": [
    {
     "data": {
      "text/plain": "0    1.5\nName: Crown Width (m), dtype: object"
     },
     "execution_count": 89,
     "metadata": {},
     "output_type": "execute_result"
    }
   ],
   "source": [
    "df['Crown Width (m)'].head(1)"
   ],
   "metadata": {
    "collapsed": false
   }
  },
  {
   "cell_type": "code",
   "execution_count": 90,
   "outputs": [
    {
     "name": "stderr",
     "output_type": "stream",
     "text": [
      "/tmp/ipykernel_71613/1823111577.py:2: FutureWarning: The default value of regex will change from True to False in a future version.\n",
      "  df.columns = df.columns.str.strip().str.lower().str.replace('[\\s\\/]', '_').str.replace('[()]', '')\n",
      "/tmp/ipykernel_71613/1823111577.py:2: FutureWarning: The default value of regex will change from True to False in a future version.\n",
      "  df.columns = df.columns.str.strip().str.lower().str.replace('[\\s\\/]', '_').str.replace('[()]', '')\n"
     ]
    }
   ],
   "source": [
    "# Rename columns\n",
    "df.columns = df.columns.str.strip().str.lower().str.replace('[\\s\\/]', '_').str.replace('[()]', '')"
   ],
   "metadata": {
    "collapsed": false
   }
  },
  {
   "cell_type": "code",
   "execution_count": 91,
   "outputs": [
    {
     "data": {
      "text/plain": "       tree_id   name dbh_cm replacement_value_eur carbon_storage_kg  \\\n12512      NaN  Total   None              23086243           5484735   \n\n      carbon_storage_eur gross_carbon_sequestration_kg_yr  \\\n12512             881216                            71714   \n\n      gross_carbon_sequestration_eur_yr avoided_runoff_mcube_yr  \\\n12512                             11522                    2270   \n\n      avoided_runoff_eur_yr  ... total_annual_benefits_eur_yr  \\\n12512                  4317  ...                        25099   \n\n      oxygen_production_kg_yr height_m crown_height_m crown_width_m  \\\n12512                191237.8     None           None          None   \n\n      canopy_cover_m2 leaf_area_m2 leaf_biomass_kg latitude longitude  \n12512        382146.7    1241575.9        101770.6      NaN       NaN  \n\n[1 rows x 25 columns]",
      "text/html": "<div>\n<style scoped>\n    .dataframe tbody tr th:only-of-type {\n        vertical-align: middle;\n    }\n\n    .dataframe tbody tr th {\n        vertical-align: top;\n    }\n\n    .dataframe thead th {\n        text-align: right;\n    }\n</style>\n<table border=\"1\" class=\"dataframe\">\n  <thead>\n    <tr style=\"text-align: right;\">\n      <th></th>\n      <th>tree_id</th>\n      <th>name</th>\n      <th>dbh_cm</th>\n      <th>replacement_value_eur</th>\n      <th>carbon_storage_kg</th>\n      <th>carbon_storage_eur</th>\n      <th>gross_carbon_sequestration_kg_yr</th>\n      <th>gross_carbon_sequestration_eur_yr</th>\n      <th>avoided_runoff_mcube_yr</th>\n      <th>avoided_runoff_eur_yr</th>\n      <th>...</th>\n      <th>total_annual_benefits_eur_yr</th>\n      <th>oxygen_production_kg_yr</th>\n      <th>height_m</th>\n      <th>crown_height_m</th>\n      <th>crown_width_m</th>\n      <th>canopy_cover_m2</th>\n      <th>leaf_area_m2</th>\n      <th>leaf_biomass_kg</th>\n      <th>latitude</th>\n      <th>longitude</th>\n    </tr>\n  </thead>\n  <tbody>\n    <tr>\n      <th>12512</th>\n      <td>NaN</td>\n      <td>Total</td>\n      <td>None</td>\n      <td>23086243</td>\n      <td>5484735</td>\n      <td>881216</td>\n      <td>71714</td>\n      <td>11522</td>\n      <td>2270</td>\n      <td>4317</td>\n      <td>...</td>\n      <td>25099</td>\n      <td>191237.8</td>\n      <td>None</td>\n      <td>None</td>\n      <td>None</td>\n      <td>382146.7</td>\n      <td>1241575.9</td>\n      <td>101770.6</td>\n      <td>NaN</td>\n      <td>NaN</td>\n    </tr>\n  </tbody>\n</table>\n<p>1 rows × 25 columns</p>\n</div>"
     },
     "execution_count": 91,
     "metadata": {},
     "output_type": "execute_result"
    }
   ],
   "source": [
    "# The last row is the total\n",
    "df[-1:]"
   ],
   "metadata": {
    "collapsed": false
   }
  },
  {
   "cell_type": "code",
   "execution_count": 92,
   "outputs": [],
   "source": [
    "# Remove the last row\n",
    "df = df.drop(df.index[-1])"
   ],
   "metadata": {
    "collapsed": false
   }
  },
  {
   "cell_type": "code",
   "execution_count": 93,
   "outputs": [
    {
     "data": {
      "text/plain": "tree_id                                  0\nname                                     0\ndbh_cm                                   0\nreplacement_value_eur                    0\ncarbon_storage_kg                        0\ncarbon_storage_eur                       0\ngross_carbon_sequestration_kg_yr         0\ngross_carbon_sequestration_eur_yr        0\navoided_runoff_mcube_yr                  0\navoided_runoff_eur_yr                    0\ncarbon_avoided_kg_yr                 12512\ncarbon_avoided_eur_yr                12512\npollution_removal_g_yr                   0\npollution_removal_eur_yr                 0\nenergy_savings_eur_yr                12512\ntotal_annual_benefits_eur_yr             0\noxygen_production_kg_yr                  0\nheight_m                                 0\ncrown_height_m                           0\ncrown_width_m                            0\ncanopy_cover_m2                          0\nleaf_area_m2                             0\nleaf_biomass_kg                          0\nlatitude                                 0\nlongitude                                0\ndtype: int64"
     },
     "execution_count": 93,
     "metadata": {},
     "output_type": "execute_result"
    }
   ],
   "source": [
    "# Check for null values\n",
    "df.isnull().sum()"
   ],
   "metadata": {
    "collapsed": false
   }
  },
  {
   "cell_type": "code",
   "execution_count": 94,
   "outputs": [],
   "source": [
    "# Drop empty columns\n",
    "df.drop(['carbon_avoided_kg_yr', 'carbon_avoided_eur_yr', 'energy_savings_eur_yr'], axis=1, inplace=True)"
   ],
   "metadata": {
    "collapsed": false
   }
  },
  {
   "cell_type": "code",
   "execution_count": 95,
   "outputs": [
    {
     "data": {
      "text/plain": "   tree_id                 name dbh_cm replacement_value_eur  \\\n0      1.0  Acer pseudoplatanus      8                179.43   \n\n  carbon_storage_kg carbon_storage_eur gross_carbon_sequestration_kg_yr  \\\n0                12               1.92                              1.1   \n\n  gross_carbon_sequestration_eur_yr avoided_runoff_mcube_yr  \\\n0                              0.17                       0   \n\n  avoided_runoff_eur_yr  ... total_annual_benefits_eur_yr  \\\n0                  0.01  ...                         0.21   \n\n  oxygen_production_kg_yr height_m crown_height_m crown_width_m  \\\n0                     2.8      3.5              1           1.5   \n\n  canopy_cover_m2 leaf_area_m2 leaf_biomass_kg   latitude  longitude  \n0             1.8          3.5             0.2  46.051599  11.072014  \n\n[1 rows x 22 columns]",
      "text/html": "<div>\n<style scoped>\n    .dataframe tbody tr th:only-of-type {\n        vertical-align: middle;\n    }\n\n    .dataframe tbody tr th {\n        vertical-align: top;\n    }\n\n    .dataframe thead th {\n        text-align: right;\n    }\n</style>\n<table border=\"1\" class=\"dataframe\">\n  <thead>\n    <tr style=\"text-align: right;\">\n      <th></th>\n      <th>tree_id</th>\n      <th>name</th>\n      <th>dbh_cm</th>\n      <th>replacement_value_eur</th>\n      <th>carbon_storage_kg</th>\n      <th>carbon_storage_eur</th>\n      <th>gross_carbon_sequestration_kg_yr</th>\n      <th>gross_carbon_sequestration_eur_yr</th>\n      <th>avoided_runoff_mcube_yr</th>\n      <th>avoided_runoff_eur_yr</th>\n      <th>...</th>\n      <th>total_annual_benefits_eur_yr</th>\n      <th>oxygen_production_kg_yr</th>\n      <th>height_m</th>\n      <th>crown_height_m</th>\n      <th>crown_width_m</th>\n      <th>canopy_cover_m2</th>\n      <th>leaf_area_m2</th>\n      <th>leaf_biomass_kg</th>\n      <th>latitude</th>\n      <th>longitude</th>\n    </tr>\n  </thead>\n  <tbody>\n    <tr>\n      <th>0</th>\n      <td>1.0</td>\n      <td>Acer pseudoplatanus</td>\n      <td>8</td>\n      <td>179.43</td>\n      <td>12</td>\n      <td>1.92</td>\n      <td>1.1</td>\n      <td>0.17</td>\n      <td>0</td>\n      <td>0.01</td>\n      <td>...</td>\n      <td>0.21</td>\n      <td>2.8</td>\n      <td>3.5</td>\n      <td>1</td>\n      <td>1.5</td>\n      <td>1.8</td>\n      <td>3.5</td>\n      <td>0.2</td>\n      <td>46.051599</td>\n      <td>11.072014</td>\n    </tr>\n  </tbody>\n</table>\n<p>1 rows × 22 columns</p>\n</div>"
     },
     "execution_count": 95,
     "metadata": {},
     "output_type": "execute_result"
    }
   ],
   "source": [
    "df.head(1)"
   ],
   "metadata": {
    "collapsed": false
   }
  },
  {
   "cell_type": "code",
   "execution_count": 96,
   "outputs": [],
   "source": [
    "# display(df.dtypes)"
   ],
   "metadata": {
    "collapsed": false
   }
  },
  {
   "cell_type": "code",
   "execution_count": 97,
   "outputs": [],
   "source": [
    "# Convert tree_id to int\n",
    "df[df.columns[2:]] = df[df.columns[2:]].astype(float)\n",
    "df['tree_id'] = df['tree_id'].astype(int)\n",
    "df['name'] = df['name'].astype('string')\n",
    "# display(df.dtypes)"
   ],
   "metadata": {
    "collapsed": false
   }
  },
  {
   "cell_type": "code",
   "execution_count": 98,
   "outputs": [
    {
     "data": {
      "text/plain": "   tree_id                 name  dbh_cm  replacement_value_eur  \\\n0        1  Acer pseudoplatanus     8.0                 179.43   \n\n   carbon_storage_kg  carbon_storage_eur  gross_carbon_sequestration_kg_yr  \\\n0               12.0                1.92                               1.1   \n\n   gross_carbon_sequestration_eur_yr  avoided_runoff_mcube_yr  \\\n0                               0.17                      0.0   \n\n   avoided_runoff_eur_yr  ...  total_annual_benefits_eur_yr  \\\n0                   0.01  ...                          0.21   \n\n   oxygen_production_kg_yr  height_m  crown_height_m  crown_width_m  \\\n0                      2.8       3.5             1.0            1.5   \n\n   canopy_cover_m2  leaf_area_m2  leaf_biomass_kg   latitude  longitude  \n0              1.8           3.5              0.2  46.051599  11.072014  \n\n[1 rows x 22 columns]",
      "text/html": "<div>\n<style scoped>\n    .dataframe tbody tr th:only-of-type {\n        vertical-align: middle;\n    }\n\n    .dataframe tbody tr th {\n        vertical-align: top;\n    }\n\n    .dataframe thead th {\n        text-align: right;\n    }\n</style>\n<table border=\"1\" class=\"dataframe\">\n  <thead>\n    <tr style=\"text-align: right;\">\n      <th></th>\n      <th>tree_id</th>\n      <th>name</th>\n      <th>dbh_cm</th>\n      <th>replacement_value_eur</th>\n      <th>carbon_storage_kg</th>\n      <th>carbon_storage_eur</th>\n      <th>gross_carbon_sequestration_kg_yr</th>\n      <th>gross_carbon_sequestration_eur_yr</th>\n      <th>avoided_runoff_mcube_yr</th>\n      <th>avoided_runoff_eur_yr</th>\n      <th>...</th>\n      <th>total_annual_benefits_eur_yr</th>\n      <th>oxygen_production_kg_yr</th>\n      <th>height_m</th>\n      <th>crown_height_m</th>\n      <th>crown_width_m</th>\n      <th>canopy_cover_m2</th>\n      <th>leaf_area_m2</th>\n      <th>leaf_biomass_kg</th>\n      <th>latitude</th>\n      <th>longitude</th>\n    </tr>\n  </thead>\n  <tbody>\n    <tr>\n      <th>0</th>\n      <td>1</td>\n      <td>Acer pseudoplatanus</td>\n      <td>8.0</td>\n      <td>179.43</td>\n      <td>12.0</td>\n      <td>1.92</td>\n      <td>1.1</td>\n      <td>0.17</td>\n      <td>0.0</td>\n      <td>0.01</td>\n      <td>...</td>\n      <td>0.21</td>\n      <td>2.8</td>\n      <td>3.5</td>\n      <td>1.0</td>\n      <td>1.5</td>\n      <td>1.8</td>\n      <td>3.5</td>\n      <td>0.2</td>\n      <td>46.051599</td>\n      <td>11.072014</td>\n    </tr>\n  </tbody>\n</table>\n<p>1 rows × 22 columns</p>\n</div>"
     },
     "execution_count": 98,
     "metadata": {},
     "output_type": "execute_result"
    }
   ],
   "source": [
    "df.head(1)"
   ],
   "metadata": {
    "collapsed": false
   }
  },
  {
   "cell_type": "code",
   "execution_count": 99,
   "outputs": [],
   "source": [
    "# df.name = df.name.str.replace('(^|\\s)(\\S)', lambda x: x.group(1) + x.group(2).upper())"
   ],
   "metadata": {
    "collapsed": false
   }
  },
  {
   "cell_type": "code",
   "execution_count": 100,
   "outputs": [],
   "source": [
    "# df.head(1)"
   ],
   "metadata": {
    "collapsed": false
   }
  },
  {
   "cell_type": "code",
   "execution_count": 101,
   "outputs": [],
   "source": [
    "# result = df.to_json(orient='split')"
   ],
   "metadata": {
    "collapsed": false
   }
  },
  {
   "cell_type": "code",
   "execution_count": 102,
   "outputs": [],
   "source": [
    "# parsed = json.loads(result)\n",
    "# print(parsed[\"data\"][0])"
   ],
   "metadata": {
    "collapsed": false
   }
  },
  {
   "cell_type": "markdown",
   "source": [
    "## Task 1"
   ],
   "metadata": {
    "collapsed": false
   }
  },
  {
   "cell_type": "code",
   "execution_count": 103,
   "outputs": [
    {
     "data": {
      "text/plain": "                     name  count  mean_canopy_size\n0        Celtis australis   1028             42.34\n1  Aesculus hippocastanum    581             40.89\n2        Carpinus betulus    536             13.55\n3           Tilia cordata    509             19.85\n4    Platanus x hispanica    502            102.36\n5        Tilia x europaea    471             33.70\n6          Acer campestre    458             11.88\n7               Cupressus    399              4.49\n8        Sophora japonica    376             39.66\n9       Prunus cerasifera    350             13.30",
      "text/html": "<div>\n<style scoped>\n    .dataframe tbody tr th:only-of-type {\n        vertical-align: middle;\n    }\n\n    .dataframe tbody tr th {\n        vertical-align: top;\n    }\n\n    .dataframe thead th {\n        text-align: right;\n    }\n</style>\n<table border=\"1\" class=\"dataframe\">\n  <thead>\n    <tr style=\"text-align: right;\">\n      <th></th>\n      <th>name</th>\n      <th>count</th>\n      <th>mean_canopy_size</th>\n    </tr>\n  </thead>\n  <tbody>\n    <tr>\n      <th>0</th>\n      <td>Celtis australis</td>\n      <td>1028</td>\n      <td>42.34</td>\n    </tr>\n    <tr>\n      <th>1</th>\n      <td>Aesculus hippocastanum</td>\n      <td>581</td>\n      <td>40.89</td>\n    </tr>\n    <tr>\n      <th>2</th>\n      <td>Carpinus betulus</td>\n      <td>536</td>\n      <td>13.55</td>\n    </tr>\n    <tr>\n      <th>3</th>\n      <td>Tilia cordata</td>\n      <td>509</td>\n      <td>19.85</td>\n    </tr>\n    <tr>\n      <th>4</th>\n      <td>Platanus x hispanica</td>\n      <td>502</td>\n      <td>102.36</td>\n    </tr>\n    <tr>\n      <th>5</th>\n      <td>Tilia x europaea</td>\n      <td>471</td>\n      <td>33.70</td>\n    </tr>\n    <tr>\n      <th>6</th>\n      <td>Acer campestre</td>\n      <td>458</td>\n      <td>11.88</td>\n    </tr>\n    <tr>\n      <th>7</th>\n      <td>Cupressus</td>\n      <td>399</td>\n      <td>4.49</td>\n    </tr>\n    <tr>\n      <th>8</th>\n      <td>Sophora japonica</td>\n      <td>376</td>\n      <td>39.66</td>\n    </tr>\n    <tr>\n      <th>9</th>\n      <td>Prunus cerasifera</td>\n      <td>350</td>\n      <td>13.30</td>\n    </tr>\n  </tbody>\n</table>\n</div>"
     },
     "execution_count": 103,
     "metadata": {},
     "output_type": "execute_result"
    }
   ],
   "source": [
    "task1 = df.groupby('name')['name'].count().sort_values(ascending=False).reset_index(name='count')\n",
    "task1_mean = df.groupby('name')['canopy_cover_m2'].mean().reset_index(name='mean_canopy_size')\n",
    "t1 = task1.merge(task1_mean, on='name')\n",
    "t1 = t1.round(2)\n",
    "t1.head(10)"
   ],
   "metadata": {
    "collapsed": false
   }
  },
  {
   "cell_type": "code",
   "execution_count": 104,
   "outputs": [],
   "source": [
    "t1.to_csv('task1.csv', index=False)"
   ],
   "metadata": {
    "collapsed": false
   }
  },
  {
   "cell_type": "code",
   "execution_count": 105,
   "outputs": [],
   "source": [
    "# t1.to_json('task1.json', orient='split', index=False)"
   ],
   "metadata": {
    "collapsed": false
   }
  },
  {
   "cell_type": "code",
   "execution_count": 106,
   "outputs": [],
   "source": [
    "# import csv\n",
    "# with open('task1.csv', 'r') as file:\n",
    "#     reader = csv.reader(file)\n",
    "#     for row in reader:\n",
    "#         print(row)"
   ],
   "metadata": {
    "collapsed": false
   }
  },
  {
   "cell_type": "markdown",
   "source": [
    "## Task 2"
   ],
   "metadata": {
    "collapsed": false
   }
  },
  {
   "cell_type": "code",
   "execution_count": 107,
   "outputs": [],
   "source": [
    "path = './circoscrizioni.json'\n",
    "with open(path, 'r') as f:\n",
    "    data = json.load(f)"
   ],
   "metadata": {
    "collapsed": false
   }
  },
  {
   "cell_type": "code",
   "execution_count": 108,
   "outputs": [
    {
     "name": "stdout",
     "output_type": "stream",
     "text": [
      "                                            geometry  numero_cir      area  \\\n",
      "0  POLYGON ((11.15678 46.11661, 11.15687 46.11666...           2  15712181   \n",
      "1  POLYGON ((11.08026 46.11571, 11.08026 46.11571...           3  36949609   \n",
      "2  POLYGON ((11.09034 46.07917, 11.09032 46.07899...           4   8663138   \n",
      "3  POLYGON ((11.17163 46.08095, 11.17161 46.08106...           6  13199398   \n",
      "4  POLYGON ((11.11135 46.05878, 11.11137 46.05878...          11   3073349   \n",
      "\n",
      "   perimetro                 nome                                     fumetto  \n",
      "0      17850                MEANO                 Circoscrizione n. 2 - MEANO  \n",
      "1      38485              BONDONE               Circoscrizione n. 3 - BONDONE  \n",
      "2      16403             SARDAGNA              Circoscrizione n. 4 - SARDAGNA  \n",
      "3      20575           ARGENTARIO            Circoscrizione n. 6 - ARGENTARIO  \n",
      "4      10962  S.GIUSEPPE-S.CHIARA  Circoscrizione n. 11 - S.GIUSEPPE-S.CHIARA  \n"
     ]
    }
   ],
   "source": [
    "gdf = gpd.GeoDataFrame.from_features(data[\"features\"])\n",
    "print(gdf.head())"
   ],
   "metadata": {
    "collapsed": false
   }
  },
  {
   "cell_type": "code",
   "execution_count": 109,
   "outputs": [],
   "source": [
    "# task2 = pd.DataFrame(data, columns=['district', task1['name'][0], task1['name'][1], task1['name'][2], task1['name'][3],\n",
    "#                                     task1['name'][4]], 'others')"
   ],
   "metadata": {
    "collapsed": false
   }
  },
  {
   "cell_type": "code",
   "execution_count": 110,
   "outputs": [],
   "source": [
    "columns_names = np.array(['district', task1['name'][0], task1['name'][1], task1['name'][2], task1['name'][3],\n",
    "                          task1['name'][4], 'others'])"
   ],
   "metadata": {
    "collapsed": false
   }
  },
  {
   "cell_type": "code",
   "execution_count": 111,
   "outputs": [
    {
     "data": {
      "text/plain": "4"
     },
     "execution_count": 111,
     "metadata": {},
     "output_type": "execute_result"
    }
   ],
   "source": [
    "#  TEST\n",
    "np.argmax(columns_names == task1['name'][3])"
   ],
   "metadata": {
    "collapsed": false
   }
  },
  {
   "cell_type": "code",
   "execution_count": 112,
   "outputs": [
    {
     "data": {
      "text/plain": "False"
     },
     "execution_count": 112,
     "metadata": {},
     "output_type": "execute_result"
    }
   ],
   "source": [
    "# TEST\n",
    "'test' in columns_names"
   ],
   "metadata": {
    "collapsed": false
   }
  },
  {
   "cell_type": "code",
   "execution_count": 113,
   "outputs": [
    {
     "data": {
      "text/plain": "12"
     },
     "execution_count": 113,
     "metadata": {},
     "output_type": "execute_result"
    }
   ],
   "source": [
    "gdf.nome.count()"
   ],
   "metadata": {
    "collapsed": false
   }
  },
  {
   "cell_type": "code",
   "execution_count": 114,
   "outputs": [],
   "source": [
    "# task2.head()"
   ],
   "metadata": {
    "collapsed": false
   }
  },
  {
   "cell_type": "code",
   "execution_count": 115,
   "outputs": [],
   "source": [
    "gdf2 = gpd.GeoDataFrame(\n",
    "    df, geometry=gpd.points_from_xy(df.longitude, df.latitude))"
   ],
   "metadata": {
    "collapsed": false
   }
  },
  {
   "cell_type": "code",
   "execution_count": 116,
   "outputs": [],
   "source": [
    "# gdf.geometry[0].contains(gdf2.geometry[11])"
   ],
   "metadata": {
    "collapsed": false
   }
  },
  {
   "cell_type": "code",
   "execution_count": 117,
   "outputs": [],
   "source": [
    "points_within = gdf2.sjoin(gdf, predicate='within')"
   ],
   "metadata": {
    "collapsed": false
   }
  },
  {
   "cell_type": "code",
   "execution_count": 118,
   "outputs": [
    {
     "data": {
      "text/plain": "   tree_id                 name  dbh_cm  replacement_value_eur  \\\n0        1  Acer pseudoplatanus     8.0                 179.43   \n1        2  Acer pseudoplatanus     8.0                 179.43   \n2        3  Acer pseudoplatanus     9.0                 227.09   \n4        7            Cupressus    25.0                1110.29   \n5        8  Acer pseudoplatanus     9.0                 227.09   \n\n   carbon_storage_kg  carbon_storage_eur  gross_carbon_sequestration_kg_yr  \\\n0               12.0                1.92                               1.1   \n1               12.9                2.07                               1.1   \n2               16.2                2.61                               1.3   \n4              448.2               72.02                              11.1   \n5               16.2                2.61                               1.3   \n\n   gross_carbon_sequestration_eur_yr  avoided_runoff_mcube_yr  \\\n0                               0.17                      0.0   \n1                               0.18                      0.0   \n2                               0.20                      0.0   \n4                               1.78                      0.0   \n5                               0.20                      0.0   \n\n   avoided_runoff_eur_yr  ...  leaf_biomass_kg   latitude  longitude  \\\n0                   0.01  ...              0.2  46.051599  11.072014   \n1                   0.01  ...              0.3  46.051541  11.072108   \n2                   0.01  ...              0.3  46.051668  11.071959   \n4                   0.02  ...              1.5  46.052305  11.071550   \n5                   0.01  ...              0.3  46.052002  11.071766   \n\n                    geometry  index_right  numero_cir     area  perimetro  \\\n0  POINT (11.07201 46.05160)            2           4  8663138      16403   \n1  POINT (11.07211 46.05154)            2           4  8663138      16403   \n2  POINT (11.07196 46.05167)            2           4  8663138      16403   \n4  POINT (11.07155 46.05230)            2           4  8663138      16403   \n5  POINT (11.07177 46.05200)            2           4  8663138      16403   \n\n       nome                         fumetto  \n0  SARDAGNA  Circoscrizione n. 4 - SARDAGNA  \n1  SARDAGNA  Circoscrizione n. 4 - SARDAGNA  \n2  SARDAGNA  Circoscrizione n. 4 - SARDAGNA  \n4  SARDAGNA  Circoscrizione n. 4 - SARDAGNA  \n5  SARDAGNA  Circoscrizione n. 4 - SARDAGNA  \n\n[5 rows x 29 columns]",
      "text/html": "<div>\n<style scoped>\n    .dataframe tbody tr th:only-of-type {\n        vertical-align: middle;\n    }\n\n    .dataframe tbody tr th {\n        vertical-align: top;\n    }\n\n    .dataframe thead th {\n        text-align: right;\n    }\n</style>\n<table border=\"1\" class=\"dataframe\">\n  <thead>\n    <tr style=\"text-align: right;\">\n      <th></th>\n      <th>tree_id</th>\n      <th>name</th>\n      <th>dbh_cm</th>\n      <th>replacement_value_eur</th>\n      <th>carbon_storage_kg</th>\n      <th>carbon_storage_eur</th>\n      <th>gross_carbon_sequestration_kg_yr</th>\n      <th>gross_carbon_sequestration_eur_yr</th>\n      <th>avoided_runoff_mcube_yr</th>\n      <th>avoided_runoff_eur_yr</th>\n      <th>...</th>\n      <th>leaf_biomass_kg</th>\n      <th>latitude</th>\n      <th>longitude</th>\n      <th>geometry</th>\n      <th>index_right</th>\n      <th>numero_cir</th>\n      <th>area</th>\n      <th>perimetro</th>\n      <th>nome</th>\n      <th>fumetto</th>\n    </tr>\n  </thead>\n  <tbody>\n    <tr>\n      <th>0</th>\n      <td>1</td>\n      <td>Acer pseudoplatanus</td>\n      <td>8.0</td>\n      <td>179.43</td>\n      <td>12.0</td>\n      <td>1.92</td>\n      <td>1.1</td>\n      <td>0.17</td>\n      <td>0.0</td>\n      <td>0.01</td>\n      <td>...</td>\n      <td>0.2</td>\n      <td>46.051599</td>\n      <td>11.072014</td>\n      <td>POINT (11.07201 46.05160)</td>\n      <td>2</td>\n      <td>4</td>\n      <td>8663138</td>\n      <td>16403</td>\n      <td>SARDAGNA</td>\n      <td>Circoscrizione n. 4 - SARDAGNA</td>\n    </tr>\n    <tr>\n      <th>1</th>\n      <td>2</td>\n      <td>Acer pseudoplatanus</td>\n      <td>8.0</td>\n      <td>179.43</td>\n      <td>12.9</td>\n      <td>2.07</td>\n      <td>1.1</td>\n      <td>0.18</td>\n      <td>0.0</td>\n      <td>0.01</td>\n      <td>...</td>\n      <td>0.3</td>\n      <td>46.051541</td>\n      <td>11.072108</td>\n      <td>POINT (11.07211 46.05154)</td>\n      <td>2</td>\n      <td>4</td>\n      <td>8663138</td>\n      <td>16403</td>\n      <td>SARDAGNA</td>\n      <td>Circoscrizione n. 4 - SARDAGNA</td>\n    </tr>\n    <tr>\n      <th>2</th>\n      <td>3</td>\n      <td>Acer pseudoplatanus</td>\n      <td>9.0</td>\n      <td>227.09</td>\n      <td>16.2</td>\n      <td>2.61</td>\n      <td>1.3</td>\n      <td>0.20</td>\n      <td>0.0</td>\n      <td>0.01</td>\n      <td>...</td>\n      <td>0.3</td>\n      <td>46.051668</td>\n      <td>11.071959</td>\n      <td>POINT (11.07196 46.05167)</td>\n      <td>2</td>\n      <td>4</td>\n      <td>8663138</td>\n      <td>16403</td>\n      <td>SARDAGNA</td>\n      <td>Circoscrizione n. 4 - SARDAGNA</td>\n    </tr>\n    <tr>\n      <th>4</th>\n      <td>7</td>\n      <td>Cupressus</td>\n      <td>25.0</td>\n      <td>1110.29</td>\n      <td>448.2</td>\n      <td>72.02</td>\n      <td>11.1</td>\n      <td>1.78</td>\n      <td>0.0</td>\n      <td>0.02</td>\n      <td>...</td>\n      <td>1.5</td>\n      <td>46.052305</td>\n      <td>11.071550</td>\n      <td>POINT (11.07155 46.05230)</td>\n      <td>2</td>\n      <td>4</td>\n      <td>8663138</td>\n      <td>16403</td>\n      <td>SARDAGNA</td>\n      <td>Circoscrizione n. 4 - SARDAGNA</td>\n    </tr>\n    <tr>\n      <th>5</th>\n      <td>8</td>\n      <td>Acer pseudoplatanus</td>\n      <td>9.0</td>\n      <td>227.09</td>\n      <td>16.2</td>\n      <td>2.61</td>\n      <td>1.3</td>\n      <td>0.20</td>\n      <td>0.0</td>\n      <td>0.01</td>\n      <td>...</td>\n      <td>0.3</td>\n      <td>46.052002</td>\n      <td>11.071766</td>\n      <td>POINT (11.07177 46.05200)</td>\n      <td>2</td>\n      <td>4</td>\n      <td>8663138</td>\n      <td>16403</td>\n      <td>SARDAGNA</td>\n      <td>Circoscrizione n. 4 - SARDAGNA</td>\n    </tr>\n  </tbody>\n</table>\n<p>5 rows × 29 columns</p>\n</div>"
     },
     "execution_count": 118,
     "metadata": {},
     "output_type": "execute_result"
    }
   ],
   "source": [
    "points_within.head()"
   ],
   "metadata": {
    "collapsed": false
   }
  },
  {
   "cell_type": "code",
   "execution_count": 119,
   "outputs": [
    {
     "data": {
      "text/plain": "0    Acer pseudoplatanus\n1    Acer pseudoplatanus\n2    Acer pseudoplatanus\n4              Cupressus\n5    Acer pseudoplatanus\nName: name, dtype: string"
     },
     "execution_count": 119,
     "metadata": {},
     "output_type": "execute_result"
    }
   ],
   "source": [
    "points_within['name'].head()"
   ],
   "metadata": {
    "collapsed": false
   }
  },
  {
   "cell_type": "code",
   "execution_count": 120,
   "outputs": [],
   "source": [
    "districts = []\n",
    "for i in range(0, len(gdf.nome)):\n",
    "    districts.append(gdf.nome[i])"
   ],
   "metadata": {
    "collapsed": false
   }
  },
  {
   "cell_type": "code",
   "execution_count": 121,
   "outputs": [],
   "source": [
    "districts = np.array(districts)"
   ],
   "metadata": {
    "collapsed": false
   }
  },
  {
   "cell_type": "code",
   "execution_count": 122,
   "outputs": [
    {
     "data": {
      "text/plain": "0"
     },
     "execution_count": 122,
     "metadata": {},
     "output_type": "execute_result"
    }
   ],
   "source": [
    "np.argmax('MEANO' == districts)"
   ],
   "metadata": {
    "collapsed": false
   }
  },
  {
   "cell_type": "code",
   "execution_count": 123,
   "outputs": [
    {
     "data": {
      "text/plain": "False"
     },
     "execution_count": 123,
     "metadata": {},
     "output_type": "execute_result"
    }
   ],
   "source": [
    "('A' in districts)"
   ],
   "metadata": {
    "collapsed": false
   }
  },
  {
   "cell_type": "code",
   "execution_count": 124,
   "outputs": [],
   "source": [
    "r = np.zeros((gdf.nome.count(), len(columns_names)))\n",
    "for row in points_within.iterrows():\n",
    "    index_row = np.argmax(districts == row[1]['nome'])\n",
    "    if row[1]['name'] in columns_names:\n",
    "        index = np.argmax(columns_names == row[1]['name'])\n",
    "        r[index_row, index] += 1\n",
    "    else:\n",
    "        r[index_row, 6] += 1"
   ],
   "metadata": {
    "collapsed": false
   }
  },
  {
   "cell_type": "code",
   "execution_count": 125,
   "outputs": [],
   "source": [
    "task2 = pd.DataFrame(data=r,\n",
    "                     columns=columns_names)"
   ],
   "metadata": {
    "collapsed": false
   }
  },
  {
   "cell_type": "code",
   "execution_count": 126,
   "outputs": [],
   "source": [
    "for i in range(len(districts)):\n",
    "    task2['district'][i] = districts[i]"
   ],
   "metadata": {
    "collapsed": false
   }
  },
  {
   "cell_type": "code",
   "execution_count": 127,
   "outputs": [
    {
     "data": {
      "text/plain": "Index(['Celtis australis', 'Aesculus hippocastanum', 'Carpinus betulus',\n       'Tilia cordata', 'Platanus x hispanica', 'others'],\n      dtype='object')"
     },
     "execution_count": 127,
     "metadata": {},
     "output_type": "execute_result"
    }
   ],
   "source": [
    "task2.columns[1:]"
   ],
   "metadata": {
    "collapsed": false
   }
  },
  {
   "cell_type": "code",
   "execution_count": 128,
   "outputs": [
    {
     "data": {
      "text/plain": "              district  Celtis australis  Aesculus hippocastanum  \\\n0                MEANO                 9                       0   \n1              BONDONE                 1                      21   \n2             SARDAGNA                 0                       0   \n3           ARGENTARIO                61                       9   \n4  S.GIUSEPPE-S.CHIARA                83                     405   \n\n   Carpinus betulus  Tilia cordata  Platanus x hispanica  others  \n0                 2              1                     9     185  \n1                 3              9                     2     256  \n2                 0              0                     0      38  \n3                18              5                    12     349  \n4               123             31                    53    2329  ",
      "text/html": "<div>\n<style scoped>\n    .dataframe tbody tr th:only-of-type {\n        vertical-align: middle;\n    }\n\n    .dataframe tbody tr th {\n        vertical-align: top;\n    }\n\n    .dataframe thead th {\n        text-align: right;\n    }\n</style>\n<table border=\"1\" class=\"dataframe\">\n  <thead>\n    <tr style=\"text-align: right;\">\n      <th></th>\n      <th>district</th>\n      <th>Celtis australis</th>\n      <th>Aesculus hippocastanum</th>\n      <th>Carpinus betulus</th>\n      <th>Tilia cordata</th>\n      <th>Platanus x hispanica</th>\n      <th>others</th>\n    </tr>\n  </thead>\n  <tbody>\n    <tr>\n      <th>0</th>\n      <td>MEANO</td>\n      <td>9</td>\n      <td>0</td>\n      <td>2</td>\n      <td>1</td>\n      <td>9</td>\n      <td>185</td>\n    </tr>\n    <tr>\n      <th>1</th>\n      <td>BONDONE</td>\n      <td>1</td>\n      <td>21</td>\n      <td>3</td>\n      <td>9</td>\n      <td>2</td>\n      <td>256</td>\n    </tr>\n    <tr>\n      <th>2</th>\n      <td>SARDAGNA</td>\n      <td>0</td>\n      <td>0</td>\n      <td>0</td>\n      <td>0</td>\n      <td>0</td>\n      <td>38</td>\n    </tr>\n    <tr>\n      <th>3</th>\n      <td>ARGENTARIO</td>\n      <td>61</td>\n      <td>9</td>\n      <td>18</td>\n      <td>5</td>\n      <td>12</td>\n      <td>349</td>\n    </tr>\n    <tr>\n      <th>4</th>\n      <td>S.GIUSEPPE-S.CHIARA</td>\n      <td>83</td>\n      <td>405</td>\n      <td>123</td>\n      <td>31</td>\n      <td>53</td>\n      <td>2329</td>\n    </tr>\n  </tbody>\n</table>\n</div>"
     },
     "execution_count": 128,
     "metadata": {},
     "output_type": "execute_result"
    }
   ],
   "source": [
    "task2[task2.columns[1:]] = task2[task2.columns[1:]].applymap(int)\n",
    "task2.head()"
   ],
   "metadata": {
    "collapsed": false
   }
  },
  {
   "cell_type": "code",
   "execution_count": 129,
   "outputs": [],
   "source": [
    "# task2.iloc[:, 1:]"
   ],
   "metadata": {
    "collapsed": false
   }
  },
  {
   "cell_type": "code",
   "execution_count": 130,
   "outputs": [],
   "source": [
    "task2['tot'] = task2.iloc[:, 1:].sum(axis=1)"
   ],
   "metadata": {
    "collapsed": false
   }
  },
  {
   "cell_type": "code",
   "execution_count": 131,
   "outputs": [],
   "source": [
    "# task2.head()"
   ],
   "metadata": {
    "collapsed": false
   }
  },
  {
   "cell_type": "code",
   "execution_count": 132,
   "outputs": [],
   "source": [
    "task2.to_csv('task2.csv', index=False)"
   ],
   "metadata": {
    "collapsed": false
   }
  },
  {
   "cell_type": "code",
   "execution_count": 133,
   "outputs": [],
   "source": [
    "# task3 = task2.transpose(copy=True)"
   ],
   "metadata": {
    "collapsed": false
   }
  },
  {
   "cell_type": "code",
   "execution_count": 134,
   "outputs": [],
   "source": [
    "# task3.to_csv('task3.csv', index=True)"
   ],
   "metadata": {
    "collapsed": false
   }
  },
  {
   "cell_type": "code",
   "execution_count": 135,
   "outputs": [
    {
     "data": {
      "text/plain": "   tree_id                 name  dbh_cm  replacement_value_eur  \\\n0        1  Acer pseudoplatanus     8.0                 179.43   \n1        2  Acer pseudoplatanus     8.0                 179.43   \n2        3  Acer pseudoplatanus     9.0                 227.09   \n3        4  Acer pseudoplatanus    11.0                 482.46   \n4        7            Cupressus    25.0                1110.29   \n\n   carbon_storage_kg  carbon_storage_eur  gross_carbon_sequestration_kg_yr  \\\n0               12.0                1.92                               1.1   \n1               12.9                2.07                               1.1   \n2               16.2                2.61                               1.3   \n3               25.7                4.13                               1.6   \n4              448.2               72.02                              11.1   \n\n   gross_carbon_sequestration_eur_yr  avoided_runoff_mcube_yr  \\\n0                               0.17                      0.0   \n1                               0.18                      0.0   \n2                               0.20                      0.0   \n3                               0.26                      0.0   \n4                               1.78                      0.0   \n\n   avoided_runoff_eur_yr  ...  oxygen_production_kg_yr  height_m  \\\n0                   0.01  ...                      2.8       3.5   \n1                   0.01  ...                      3.0       5.0   \n2                   0.01  ...                      3.4       4.5   \n3                   0.02  ...                      4.3       5.0   \n4                   0.02  ...                     29.5       8.0   \n\n   crown_height_m  crown_width_m  canopy_cover_m2  leaf_area_m2  \\\n0             1.0            1.5              1.8           3.5   \n1             1.5            1.5              1.8           4.2   \n2             1.3            1.5              1.8           4.0   \n3             1.5            2.5              4.9           7.1   \n4             2.4            1.5              1.8           6.6   \n\n   leaf_biomass_kg   latitude  longitude                   geometry  \n0              0.2  46.051599  11.072014  POINT (11.07201 46.05160)  \n1              0.3  46.051541  11.072108  POINT (11.07211 46.05154)  \n2              0.3  46.051668  11.071959  POINT (11.07196 46.05167)  \n3              0.5  46.063778  11.150170  POINT (11.15017 46.06378)  \n4              1.5  46.052305  11.071550  POINT (11.07155 46.05230)  \n\n[5 rows x 23 columns]",
      "text/html": "<div>\n<style scoped>\n    .dataframe tbody tr th:only-of-type {\n        vertical-align: middle;\n    }\n\n    .dataframe tbody tr th {\n        vertical-align: top;\n    }\n\n    .dataframe thead th {\n        text-align: right;\n    }\n</style>\n<table border=\"1\" class=\"dataframe\">\n  <thead>\n    <tr style=\"text-align: right;\">\n      <th></th>\n      <th>tree_id</th>\n      <th>name</th>\n      <th>dbh_cm</th>\n      <th>replacement_value_eur</th>\n      <th>carbon_storage_kg</th>\n      <th>carbon_storage_eur</th>\n      <th>gross_carbon_sequestration_kg_yr</th>\n      <th>gross_carbon_sequestration_eur_yr</th>\n      <th>avoided_runoff_mcube_yr</th>\n      <th>avoided_runoff_eur_yr</th>\n      <th>...</th>\n      <th>oxygen_production_kg_yr</th>\n      <th>height_m</th>\n      <th>crown_height_m</th>\n      <th>crown_width_m</th>\n      <th>canopy_cover_m2</th>\n      <th>leaf_area_m2</th>\n      <th>leaf_biomass_kg</th>\n      <th>latitude</th>\n      <th>longitude</th>\n      <th>geometry</th>\n    </tr>\n  </thead>\n  <tbody>\n    <tr>\n      <th>0</th>\n      <td>1</td>\n      <td>Acer pseudoplatanus</td>\n      <td>8.0</td>\n      <td>179.43</td>\n      <td>12.0</td>\n      <td>1.92</td>\n      <td>1.1</td>\n      <td>0.17</td>\n      <td>0.0</td>\n      <td>0.01</td>\n      <td>...</td>\n      <td>2.8</td>\n      <td>3.5</td>\n      <td>1.0</td>\n      <td>1.5</td>\n      <td>1.8</td>\n      <td>3.5</td>\n      <td>0.2</td>\n      <td>46.051599</td>\n      <td>11.072014</td>\n      <td>POINT (11.07201 46.05160)</td>\n    </tr>\n    <tr>\n      <th>1</th>\n      <td>2</td>\n      <td>Acer pseudoplatanus</td>\n      <td>8.0</td>\n      <td>179.43</td>\n      <td>12.9</td>\n      <td>2.07</td>\n      <td>1.1</td>\n      <td>0.18</td>\n      <td>0.0</td>\n      <td>0.01</td>\n      <td>...</td>\n      <td>3.0</td>\n      <td>5.0</td>\n      <td>1.5</td>\n      <td>1.5</td>\n      <td>1.8</td>\n      <td>4.2</td>\n      <td>0.3</td>\n      <td>46.051541</td>\n      <td>11.072108</td>\n      <td>POINT (11.07211 46.05154)</td>\n    </tr>\n    <tr>\n      <th>2</th>\n      <td>3</td>\n      <td>Acer pseudoplatanus</td>\n      <td>9.0</td>\n      <td>227.09</td>\n      <td>16.2</td>\n      <td>2.61</td>\n      <td>1.3</td>\n      <td>0.20</td>\n      <td>0.0</td>\n      <td>0.01</td>\n      <td>...</td>\n      <td>3.4</td>\n      <td>4.5</td>\n      <td>1.3</td>\n      <td>1.5</td>\n      <td>1.8</td>\n      <td>4.0</td>\n      <td>0.3</td>\n      <td>46.051668</td>\n      <td>11.071959</td>\n      <td>POINT (11.07196 46.05167)</td>\n    </tr>\n    <tr>\n      <th>3</th>\n      <td>4</td>\n      <td>Acer pseudoplatanus</td>\n      <td>11.0</td>\n      <td>482.46</td>\n      <td>25.7</td>\n      <td>4.13</td>\n      <td>1.6</td>\n      <td>0.26</td>\n      <td>0.0</td>\n      <td>0.02</td>\n      <td>...</td>\n      <td>4.3</td>\n      <td>5.0</td>\n      <td>1.5</td>\n      <td>2.5</td>\n      <td>4.9</td>\n      <td>7.1</td>\n      <td>0.5</td>\n      <td>46.063778</td>\n      <td>11.150170</td>\n      <td>POINT (11.15017 46.06378)</td>\n    </tr>\n    <tr>\n      <th>4</th>\n      <td>7</td>\n      <td>Cupressus</td>\n      <td>25.0</td>\n      <td>1110.29</td>\n      <td>448.2</td>\n      <td>72.02</td>\n      <td>11.1</td>\n      <td>1.78</td>\n      <td>0.0</td>\n      <td>0.02</td>\n      <td>...</td>\n      <td>29.5</td>\n      <td>8.0</td>\n      <td>2.4</td>\n      <td>1.5</td>\n      <td>1.8</td>\n      <td>6.6</td>\n      <td>1.5</td>\n      <td>46.052305</td>\n      <td>11.071550</td>\n      <td>POINT (11.07155 46.05230)</td>\n    </tr>\n  </tbody>\n</table>\n<p>5 rows × 23 columns</p>\n</div>"
     },
     "execution_count": 135,
     "metadata": {},
     "output_type": "execute_result"
    }
   ],
   "source": [
    "df.head()"
   ],
   "metadata": {
    "collapsed": false
   }
  },
  {
   "cell_type": "code",
   "execution_count": 136,
   "outputs": [
    {
     "name": "stdout",
     "output_type": "stream",
     "text": [
      "0          Celtis australis\n",
      "1    Aesculus hippocastanum\n",
      "2          Carpinus betulus\n",
      "3             Tilia cordata\n",
      "4      Platanus x hispanica\n",
      "5          Tilia x europaea\n",
      "6            Acer campestre\n",
      "7                 Cupressus\n",
      "8          Sophora japonica\n",
      "9         Prunus cerasifera\n",
      "Name: name, dtype: string\n"
     ]
    }
   ],
   "source": [
    "data2 = df.groupby('name')['name'].count().sort_values(ascending=False).reset_index(name='count')\n",
    "# aa2_mean = df.groupby('name')['canopy_cover_m2'].mean().reset_index(name='mean_canopy_size')\n",
    "# a2 = aa2.merge(task1_mean, on='name')\n",
    "# a2 = a2.round(2)\n",
    "data2.head(10)\n",
    "print(data2['name'][:10])"
   ],
   "metadata": {
    "collapsed": false
   }
  },
  {
   "cell_type": "code",
   "execution_count": 137,
   "outputs": [],
   "source": [
    "N = 6\n",
    "top6 = df.groupby('name')['name'].count().sort_values(ascending=False).reset_index(name='count')\n",
    "# task1_mean = df.groupby('name')['canopy_cover_m2'].mean().reset_index(name='mean_canopy_size')\n",
    "# t1 = task1.merge(task1_mean, on='name')\n",
    "# t1 = t1.round(2)\n",
    "top6_names = top6.head(N)['name']"
   ],
   "metadata": {
    "collapsed": false
   }
  },
  {
   "cell_type": "code",
   "execution_count": 138,
   "outputs": [],
   "source": [
    "top6_data = df[['name', 'height_m', 'crown_width_m', 'dbh_cm', 'gross_carbon_sequestration_kg_yr']]\n",
    "top6_data = top6_data[top6_data['name'].isin(top6_names)]"
   ],
   "metadata": {
    "collapsed": false
   }
  },
  {
   "cell_type": "code",
   "execution_count": 139,
   "outputs": [],
   "source": [
    "# top6_names = np.array(top6_names)"
   ],
   "metadata": {
    "collapsed": false
   }
  },
  {
   "cell_type": "code",
   "execution_count": 140,
   "outputs": [],
   "source": [
    "# top6_data.sort_values(ascending=True, by='name').head()\n",
    "## CATEGORICAL SORTING\n",
    "top6_data['name'] = pd.Categorical(top6_data['name'], categories=top6_names)\n",
    "top6_data = top6_data.sort_values(by='name')"
   ],
   "metadata": {
    "collapsed": false
   }
  },
  {
   "cell_type": "code",
   "execution_count": 141,
   "outputs": [
    {
     "data": {
      "text/plain": "                  name  height_m  crown_width_m  dbh_cm  \\\n2453  Celtis australis      12.0            8.0    41.0   \n2187  Celtis australis       9.0            8.0    29.0   \n2186  Celtis australis       8.0            6.0    25.0   \n2185  Celtis australis       8.3            6.7    30.1   \n2184  Celtis australis       8.3            6.7    30.1   \n\n      gross_carbon_sequestration_kg_yr  \n2453                               1.6  \n2187                               1.3  \n2186                               1.2  \n2185                               1.3  \n2184                               1.3  ",
      "text/html": "<div>\n<style scoped>\n    .dataframe tbody tr th:only-of-type {\n        vertical-align: middle;\n    }\n\n    .dataframe tbody tr th {\n        vertical-align: top;\n    }\n\n    .dataframe thead th {\n        text-align: right;\n    }\n</style>\n<table border=\"1\" class=\"dataframe\">\n  <thead>\n    <tr style=\"text-align: right;\">\n      <th></th>\n      <th>name</th>\n      <th>height_m</th>\n      <th>crown_width_m</th>\n      <th>dbh_cm</th>\n      <th>gross_carbon_sequestration_kg_yr</th>\n    </tr>\n  </thead>\n  <tbody>\n    <tr>\n      <th>2453</th>\n      <td>Celtis australis</td>\n      <td>12.0</td>\n      <td>8.0</td>\n      <td>41.0</td>\n      <td>1.6</td>\n    </tr>\n    <tr>\n      <th>2187</th>\n      <td>Celtis australis</td>\n      <td>9.0</td>\n      <td>8.0</td>\n      <td>29.0</td>\n      <td>1.3</td>\n    </tr>\n    <tr>\n      <th>2186</th>\n      <td>Celtis australis</td>\n      <td>8.0</td>\n      <td>6.0</td>\n      <td>25.0</td>\n      <td>1.2</td>\n    </tr>\n    <tr>\n      <th>2185</th>\n      <td>Celtis australis</td>\n      <td>8.3</td>\n      <td>6.7</td>\n      <td>30.1</td>\n      <td>1.3</td>\n    </tr>\n    <tr>\n      <th>2184</th>\n      <td>Celtis australis</td>\n      <td>8.3</td>\n      <td>6.7</td>\n      <td>30.1</td>\n      <td>1.3</td>\n    </tr>\n  </tbody>\n</table>\n</div>"
     },
     "execution_count": 141,
     "metadata": {},
     "output_type": "execute_result"
    }
   ],
   "source": [
    "top6_data.head()"
   ],
   "metadata": {
    "collapsed": false
   }
  },
  {
   "cell_type": "code",
   "execution_count": 142,
   "outputs": [],
   "source": [
    "top6_data.to_csv('top6_data.csv', index=False)"
   ],
   "metadata": {
    "collapsed": false
   }
  },
  {
   "cell_type": "code",
   "execution_count": 143,
   "outputs": [
    {
     "data": {
      "text/plain": "          height_m  crown_width_m       dbh_cm  \\\ncount  1028.000000    1028.000000  1028.000000   \nmean      8.261576       6.699027    30.096984   \nstd       3.607014       3.005156    17.220832   \nmin       2.000000       1.000000     3.000000   \n25%       5.000000       4.000000    18.000000   \n50%       8.000000       6.700000    28.000000   \n75%      10.000000       9.000000    39.000000   \nmax      25.000000      17.000000   166.000000   \n\n       gross_carbon_sequestration_kg_yr  \ncount                       1028.000000  \nmean                           1.239397  \nstd                            0.447360  \nmin                            0.100000  \n25%                            0.900000  \n50%                            1.200000  \n75%                            1.500000  \nmax                            2.200000  ",
      "text/html": "<div>\n<style scoped>\n    .dataframe tbody tr th:only-of-type {\n        vertical-align: middle;\n    }\n\n    .dataframe tbody tr th {\n        vertical-align: top;\n    }\n\n    .dataframe thead th {\n        text-align: right;\n    }\n</style>\n<table border=\"1\" class=\"dataframe\">\n  <thead>\n    <tr style=\"text-align: right;\">\n      <th></th>\n      <th>height_m</th>\n      <th>crown_width_m</th>\n      <th>dbh_cm</th>\n      <th>gross_carbon_sequestration_kg_yr</th>\n    </tr>\n  </thead>\n  <tbody>\n    <tr>\n      <th>count</th>\n      <td>1028.000000</td>\n      <td>1028.000000</td>\n      <td>1028.000000</td>\n      <td>1028.000000</td>\n    </tr>\n    <tr>\n      <th>mean</th>\n      <td>8.261576</td>\n      <td>6.699027</td>\n      <td>30.096984</td>\n      <td>1.239397</td>\n    </tr>\n    <tr>\n      <th>std</th>\n      <td>3.607014</td>\n      <td>3.005156</td>\n      <td>17.220832</td>\n      <td>0.447360</td>\n    </tr>\n    <tr>\n      <th>min</th>\n      <td>2.000000</td>\n      <td>1.000000</td>\n      <td>3.000000</td>\n      <td>0.100000</td>\n    </tr>\n    <tr>\n      <th>25%</th>\n      <td>5.000000</td>\n      <td>4.000000</td>\n      <td>18.000000</td>\n      <td>0.900000</td>\n    </tr>\n    <tr>\n      <th>50%</th>\n      <td>8.000000</td>\n      <td>6.700000</td>\n      <td>28.000000</td>\n      <td>1.200000</td>\n    </tr>\n    <tr>\n      <th>75%</th>\n      <td>10.000000</td>\n      <td>9.000000</td>\n      <td>39.000000</td>\n      <td>1.500000</td>\n    </tr>\n    <tr>\n      <th>max</th>\n      <td>25.000000</td>\n      <td>17.000000</td>\n      <td>166.000000</td>\n      <td>2.200000</td>\n    </tr>\n  </tbody>\n</table>\n</div>"
     },
     "execution_count": 143,
     "metadata": {},
     "output_type": "execute_result"
    }
   ],
   "source": [
    "top6_data[top6_data['name'] == 'Celtis australis'].describe()"
   ],
   "metadata": {
    "collapsed": false
   }
  },
  {
   "cell_type": "code",
   "execution_count": 144,
   "outputs": [
    {
     "data": {
      "text/plain": "          height_m  crown_width_m       dbh_cm  \\\ncount  3627.000000    3627.000000  3627.000000   \nmean      8.363551       6.146705    31.375407   \nstd       4.833759       3.941895    27.935480   \nmin       1.000000       0.500000     2.000000   \n25%       5.000000       3.000000    13.000000   \n50%       7.000000       6.000000    22.000000   \n75%      10.000000       8.000000    40.000000   \nmax      38.000000      26.000000   230.000000   \n\n       gross_carbon_sequestration_kg_yr  \ncount                       3627.000000  \nmean                           5.879653  \nstd                            8.181173  \nmin                            0.100000  \n25%                            1.300000  \n50%                            2.300000  \n75%                            6.300000  \nmax                           51.600000  ",
      "text/html": "<div>\n<style scoped>\n    .dataframe tbody tr th:only-of-type {\n        vertical-align: middle;\n    }\n\n    .dataframe tbody tr th {\n        vertical-align: top;\n    }\n\n    .dataframe thead th {\n        text-align: right;\n    }\n</style>\n<table border=\"1\" class=\"dataframe\">\n  <thead>\n    <tr style=\"text-align: right;\">\n      <th></th>\n      <th>height_m</th>\n      <th>crown_width_m</th>\n      <th>dbh_cm</th>\n      <th>gross_carbon_sequestration_kg_yr</th>\n    </tr>\n  </thead>\n  <tbody>\n    <tr>\n      <th>count</th>\n      <td>3627.000000</td>\n      <td>3627.000000</td>\n      <td>3627.000000</td>\n      <td>3627.000000</td>\n    </tr>\n    <tr>\n      <th>mean</th>\n      <td>8.363551</td>\n      <td>6.146705</td>\n      <td>31.375407</td>\n      <td>5.879653</td>\n    </tr>\n    <tr>\n      <th>std</th>\n      <td>4.833759</td>\n      <td>3.941895</td>\n      <td>27.935480</td>\n      <td>8.181173</td>\n    </tr>\n    <tr>\n      <th>min</th>\n      <td>1.000000</td>\n      <td>0.500000</td>\n      <td>2.000000</td>\n      <td>0.100000</td>\n    </tr>\n    <tr>\n      <th>25%</th>\n      <td>5.000000</td>\n      <td>3.000000</td>\n      <td>13.000000</td>\n      <td>1.300000</td>\n    </tr>\n    <tr>\n      <th>50%</th>\n      <td>7.000000</td>\n      <td>6.000000</td>\n      <td>22.000000</td>\n      <td>2.300000</td>\n    </tr>\n    <tr>\n      <th>75%</th>\n      <td>10.000000</td>\n      <td>8.000000</td>\n      <td>40.000000</td>\n      <td>6.300000</td>\n    </tr>\n    <tr>\n      <th>max</th>\n      <td>38.000000</td>\n      <td>26.000000</td>\n      <td>230.000000</td>\n      <td>51.600000</td>\n    </tr>\n  </tbody>\n</table>\n</div>"
     },
     "execution_count": 144,
     "metadata": {},
     "output_type": "execute_result"
    }
   ],
   "source": [
    "top6_data.describe()"
   ],
   "metadata": {
    "collapsed": false
   }
  },
  {
   "cell_type": "code",
   "execution_count": 145,
   "outputs": [],
   "source": [
    "# id = 8074\n",
    "# df[df['tree_id'] == id]"
   ],
   "metadata": {
    "collapsed": false
   }
  },
  {
   "cell_type": "code",
   "execution_count": 146,
   "outputs": [],
   "source": [
    "# CO2 assorbita = gros_carbon_sequestration_kg_yr\n",
    "# diametro tronco = dbh_cm\n",
    "# altezza = height_m\n",
    "# diametro chioma = crown_width_m\n",
    "# copertura foglie = leaf_area_m2\n",
    "# copertura chioma = canopy_cover_m2\n",
    "# produzione ossigeno = oxygen_production_kg_yr\n",
    "# inquinamento rimosso = pollution_removal_g_yr"
   ],
   "metadata": {
    "collapsed": false
   }
  },
  {
   "cell_type": "code",
   "execution_count": 147,
   "outputs": [],
   "source": [
    "# top6_data.plot.scatter('dbh_cm', 'gross_carbon_sequestration_kg_yr', c='name', colormap='tab10')"
   ],
   "metadata": {
    "collapsed": false
   }
  },
  {
   "cell_type": "markdown",
   "source": [
    "# Assignment 3"
   ],
   "metadata": {
    "collapsed": false
   }
  },
  {
   "cell_type": "code",
   "execution_count": 148,
   "outputs": [],
   "source": [
    "# GEOJSON - GEOPANDAS\n",
    "# path_geo = \"./geo_data_trees.geojson\"\n",
    "# gdf3 = gpd.read_file(path_geo)"
   ],
   "metadata": {
    "collapsed": false
   }
  },
  {
   "cell_type": "code",
   "execution_count": 149,
   "outputs": [
    {
     "data": {
      "text/plain": "   tree_id                 name  dbh_cm  replacement_value_eur  \\\n0        1  Acer pseudoplatanus     8.0                 179.43   \n1        2  Acer pseudoplatanus     8.0                 179.43   \n2        3  Acer pseudoplatanus     9.0                 227.09   \n4        7            Cupressus    25.0                1110.29   \n5        8  Acer pseudoplatanus     9.0                 227.09   \n\n   carbon_storage_kg  carbon_storage_eur  gross_carbon_sequestration_kg_yr  \\\n0               12.0                1.92                               1.1   \n1               12.9                2.07                               1.1   \n2               16.2                2.61                               1.3   \n4              448.2               72.02                              11.1   \n5               16.2                2.61                               1.3   \n\n   gross_carbon_sequestration_eur_yr  avoided_runoff_mcube_yr  \\\n0                               0.17                      0.0   \n1                               0.18                      0.0   \n2                               0.20                      0.0   \n4                               1.78                      0.0   \n5                               0.20                      0.0   \n\n   avoided_runoff_eur_yr  ...  leaf_biomass_kg   latitude  longitude  \\\n0                   0.01  ...              0.2  46.051599  11.072014   \n1                   0.01  ...              0.3  46.051541  11.072108   \n2                   0.01  ...              0.3  46.051668  11.071959   \n4                   0.02  ...              1.5  46.052305  11.071550   \n5                   0.01  ...              0.3  46.052002  11.071766   \n\n                    geometry  index_right  numero_cir     area  perimetro  \\\n0  POINT (11.07201 46.05160)            2           4  8663138      16403   \n1  POINT (11.07211 46.05154)            2           4  8663138      16403   \n2  POINT (11.07196 46.05167)            2           4  8663138      16403   \n4  POINT (11.07155 46.05230)            2           4  8663138      16403   \n5  POINT (11.07177 46.05200)            2           4  8663138      16403   \n\n       nome                         fumetto  \n0  SARDAGNA  Circoscrizione n. 4 - SARDAGNA  \n1  SARDAGNA  Circoscrizione n. 4 - SARDAGNA  \n2  SARDAGNA  Circoscrizione n. 4 - SARDAGNA  \n4  SARDAGNA  Circoscrizione n. 4 - SARDAGNA  \n5  SARDAGNA  Circoscrizione n. 4 - SARDAGNA  \n\n[5 rows x 29 columns]",
      "text/html": "<div>\n<style scoped>\n    .dataframe tbody tr th:only-of-type {\n        vertical-align: middle;\n    }\n\n    .dataframe tbody tr th {\n        vertical-align: top;\n    }\n\n    .dataframe thead th {\n        text-align: right;\n    }\n</style>\n<table border=\"1\" class=\"dataframe\">\n  <thead>\n    <tr style=\"text-align: right;\">\n      <th></th>\n      <th>tree_id</th>\n      <th>name</th>\n      <th>dbh_cm</th>\n      <th>replacement_value_eur</th>\n      <th>carbon_storage_kg</th>\n      <th>carbon_storage_eur</th>\n      <th>gross_carbon_sequestration_kg_yr</th>\n      <th>gross_carbon_sequestration_eur_yr</th>\n      <th>avoided_runoff_mcube_yr</th>\n      <th>avoided_runoff_eur_yr</th>\n      <th>...</th>\n      <th>leaf_biomass_kg</th>\n      <th>latitude</th>\n      <th>longitude</th>\n      <th>geometry</th>\n      <th>index_right</th>\n      <th>numero_cir</th>\n      <th>area</th>\n      <th>perimetro</th>\n      <th>nome</th>\n      <th>fumetto</th>\n    </tr>\n  </thead>\n  <tbody>\n    <tr>\n      <th>0</th>\n      <td>1</td>\n      <td>Acer pseudoplatanus</td>\n      <td>8.0</td>\n      <td>179.43</td>\n      <td>12.0</td>\n      <td>1.92</td>\n      <td>1.1</td>\n      <td>0.17</td>\n      <td>0.0</td>\n      <td>0.01</td>\n      <td>...</td>\n      <td>0.2</td>\n      <td>46.051599</td>\n      <td>11.072014</td>\n      <td>POINT (11.07201 46.05160)</td>\n      <td>2</td>\n      <td>4</td>\n      <td>8663138</td>\n      <td>16403</td>\n      <td>SARDAGNA</td>\n      <td>Circoscrizione n. 4 - SARDAGNA</td>\n    </tr>\n    <tr>\n      <th>1</th>\n      <td>2</td>\n      <td>Acer pseudoplatanus</td>\n      <td>8.0</td>\n      <td>179.43</td>\n      <td>12.9</td>\n      <td>2.07</td>\n      <td>1.1</td>\n      <td>0.18</td>\n      <td>0.0</td>\n      <td>0.01</td>\n      <td>...</td>\n      <td>0.3</td>\n      <td>46.051541</td>\n      <td>11.072108</td>\n      <td>POINT (11.07211 46.05154)</td>\n      <td>2</td>\n      <td>4</td>\n      <td>8663138</td>\n      <td>16403</td>\n      <td>SARDAGNA</td>\n      <td>Circoscrizione n. 4 - SARDAGNA</td>\n    </tr>\n    <tr>\n      <th>2</th>\n      <td>3</td>\n      <td>Acer pseudoplatanus</td>\n      <td>9.0</td>\n      <td>227.09</td>\n      <td>16.2</td>\n      <td>2.61</td>\n      <td>1.3</td>\n      <td>0.20</td>\n      <td>0.0</td>\n      <td>0.01</td>\n      <td>...</td>\n      <td>0.3</td>\n      <td>46.051668</td>\n      <td>11.071959</td>\n      <td>POINT (11.07196 46.05167)</td>\n      <td>2</td>\n      <td>4</td>\n      <td>8663138</td>\n      <td>16403</td>\n      <td>SARDAGNA</td>\n      <td>Circoscrizione n. 4 - SARDAGNA</td>\n    </tr>\n    <tr>\n      <th>4</th>\n      <td>7</td>\n      <td>Cupressus</td>\n      <td>25.0</td>\n      <td>1110.29</td>\n      <td>448.2</td>\n      <td>72.02</td>\n      <td>11.1</td>\n      <td>1.78</td>\n      <td>0.0</td>\n      <td>0.02</td>\n      <td>...</td>\n      <td>1.5</td>\n      <td>46.052305</td>\n      <td>11.071550</td>\n      <td>POINT (11.07155 46.05230)</td>\n      <td>2</td>\n      <td>4</td>\n      <td>8663138</td>\n      <td>16403</td>\n      <td>SARDAGNA</td>\n      <td>Circoscrizione n. 4 - SARDAGNA</td>\n    </tr>\n    <tr>\n      <th>5</th>\n      <td>8</td>\n      <td>Acer pseudoplatanus</td>\n      <td>9.0</td>\n      <td>227.09</td>\n      <td>16.2</td>\n      <td>2.61</td>\n      <td>1.3</td>\n      <td>0.20</td>\n      <td>0.0</td>\n      <td>0.01</td>\n      <td>...</td>\n      <td>0.3</td>\n      <td>46.052002</td>\n      <td>11.071766</td>\n      <td>POINT (11.07177 46.05200)</td>\n      <td>2</td>\n      <td>4</td>\n      <td>8663138</td>\n      <td>16403</td>\n      <td>SARDAGNA</td>\n      <td>Circoscrizione n. 4 - SARDAGNA</td>\n    </tr>\n  </tbody>\n</table>\n<p>5 rows × 29 columns</p>\n</div>"
     },
     "execution_count": 149,
     "metadata": {},
     "output_type": "execute_result"
    }
   ],
   "source": [
    "points_within.head()"
   ],
   "metadata": {
    "collapsed": false
   }
  },
  {
   "cell_type": "code",
   "execution_count": 150,
   "outputs": [],
   "source": [
    "trento_trees = points_within[['tree_id', 'name', 'oxygen_production_kg_yr', 'canopy_cover_m2', 'geometry', 'nome']]"
   ],
   "metadata": {
    "collapsed": false
   }
  },
  {
   "cell_type": "code",
   "execution_count": 151,
   "outputs": [
    {
     "data": {
      "text/plain": "   tree_id                 name  oxygen_production_kg_yr  canopy_cover_m2  \\\n0        1  Acer pseudoplatanus                      2.8              1.8   \n1        2  Acer pseudoplatanus                      3.0              1.8   \n2        3  Acer pseudoplatanus                      3.4              1.8   \n4        7            Cupressus                     29.5              1.8   \n5        8  Acer pseudoplatanus                      3.4              1.8   \n\n                    geometry      nome  \n0  POINT (11.07201 46.05160)  SARDAGNA  \n1  POINT (11.07211 46.05154)  SARDAGNA  \n2  POINT (11.07196 46.05167)  SARDAGNA  \n4  POINT (11.07155 46.05230)  SARDAGNA  \n5  POINT (11.07177 46.05200)  SARDAGNA  ",
      "text/html": "<div>\n<style scoped>\n    .dataframe tbody tr th:only-of-type {\n        vertical-align: middle;\n    }\n\n    .dataframe tbody tr th {\n        vertical-align: top;\n    }\n\n    .dataframe thead th {\n        text-align: right;\n    }\n</style>\n<table border=\"1\" class=\"dataframe\">\n  <thead>\n    <tr style=\"text-align: right;\">\n      <th></th>\n      <th>tree_id</th>\n      <th>name</th>\n      <th>oxygen_production_kg_yr</th>\n      <th>canopy_cover_m2</th>\n      <th>geometry</th>\n      <th>nome</th>\n    </tr>\n  </thead>\n  <tbody>\n    <tr>\n      <th>0</th>\n      <td>1</td>\n      <td>Acer pseudoplatanus</td>\n      <td>2.8</td>\n      <td>1.8</td>\n      <td>POINT (11.07201 46.05160)</td>\n      <td>SARDAGNA</td>\n    </tr>\n    <tr>\n      <th>1</th>\n      <td>2</td>\n      <td>Acer pseudoplatanus</td>\n      <td>3.0</td>\n      <td>1.8</td>\n      <td>POINT (11.07211 46.05154)</td>\n      <td>SARDAGNA</td>\n    </tr>\n    <tr>\n      <th>2</th>\n      <td>3</td>\n      <td>Acer pseudoplatanus</td>\n      <td>3.4</td>\n      <td>1.8</td>\n      <td>POINT (11.07196 46.05167)</td>\n      <td>SARDAGNA</td>\n    </tr>\n    <tr>\n      <th>4</th>\n      <td>7</td>\n      <td>Cupressus</td>\n      <td>29.5</td>\n      <td>1.8</td>\n      <td>POINT (11.07155 46.05230)</td>\n      <td>SARDAGNA</td>\n    </tr>\n    <tr>\n      <th>5</th>\n      <td>8</td>\n      <td>Acer pseudoplatanus</td>\n      <td>3.4</td>\n      <td>1.8</td>\n      <td>POINT (11.07177 46.05200)</td>\n      <td>SARDAGNA</td>\n    </tr>\n  </tbody>\n</table>\n</div>"
     },
     "execution_count": 151,
     "metadata": {},
     "output_type": "execute_result"
    }
   ],
   "source": [
    "trento_trees.head()"
   ],
   "metadata": {
    "collapsed": false
   }
  },
  {
   "cell_type": "code",
   "execution_count": 152,
   "outputs": [],
   "source": [
    "trento = gdf[['geometry', 'area','nome']]"
   ],
   "metadata": {
    "collapsed": false
   }
  },
  {
   "cell_type": "code",
   "execution_count": 153,
   "outputs": [
    {
     "data": {
      "text/plain": "                                            geometry      area  \\\n0  POLYGON ((11.15678 46.11661, 11.15687 46.11666...  15712181   \n1  POLYGON ((11.08026 46.11571, 11.08026 46.11571...  36949609   \n2  POLYGON ((11.09034 46.07917, 11.09032 46.07899...   8663138   \n3  POLYGON ((11.17163 46.08095, 11.17161 46.08106...  13199398   \n4  POLYGON ((11.11135 46.05878, 11.11137 46.05878...   3073349   \n\n                  nome  \n0                MEANO  \n1              BONDONE  \n2             SARDAGNA  \n3           ARGENTARIO  \n4  S.GIUSEPPE-S.CHIARA  ",
      "text/html": "<div>\n<style scoped>\n    .dataframe tbody tr th:only-of-type {\n        vertical-align: middle;\n    }\n\n    .dataframe tbody tr th {\n        vertical-align: top;\n    }\n\n    .dataframe thead th {\n        text-align: right;\n    }\n</style>\n<table border=\"1\" class=\"dataframe\">\n  <thead>\n    <tr style=\"text-align: right;\">\n      <th></th>\n      <th>geometry</th>\n      <th>area</th>\n      <th>nome</th>\n    </tr>\n  </thead>\n  <tbody>\n    <tr>\n      <th>0</th>\n      <td>POLYGON ((11.15678 46.11661, 11.15687 46.11666...</td>\n      <td>15712181</td>\n      <td>MEANO</td>\n    </tr>\n    <tr>\n      <th>1</th>\n      <td>POLYGON ((11.08026 46.11571, 11.08026 46.11571...</td>\n      <td>36949609</td>\n      <td>BONDONE</td>\n    </tr>\n    <tr>\n      <th>2</th>\n      <td>POLYGON ((11.09034 46.07917, 11.09032 46.07899...</td>\n      <td>8663138</td>\n      <td>SARDAGNA</td>\n    </tr>\n    <tr>\n      <th>3</th>\n      <td>POLYGON ((11.17163 46.08095, 11.17161 46.08106...</td>\n      <td>13199398</td>\n      <td>ARGENTARIO</td>\n    </tr>\n    <tr>\n      <th>4</th>\n      <td>POLYGON ((11.11135 46.05878, 11.11137 46.05878...</td>\n      <td>3073349</td>\n      <td>S.GIUSEPPE-S.CHIARA</td>\n    </tr>\n  </tbody>\n</table>\n</div>"
     },
     "execution_count": 153,
     "metadata": {},
     "output_type": "execute_result"
    }
   ],
   "source": [
    "trento.head()"
   ],
   "metadata": {
    "collapsed": false
   }
  },
  {
   "cell_type": "code",
   "execution_count": 154,
   "outputs": [],
   "source": [
    "# trento_trees.to_file(\"trento_trees.geojson\", driver='GeoJSON')\n",
    "# trento.to_file(\"trento.geojson\", driver='GeoJSON')"
   ],
   "metadata": {
    "collapsed": false
   }
  },
  {
   "cell_type": "code",
   "execution_count": 155,
   "outputs": [],
   "source": [
    "district_count = trento_trees.groupby('nome')['nome'].count().sort_values(ascending=False).reset_index(name='count')"
   ],
   "metadata": {
    "collapsed": false
   }
  },
  {
   "cell_type": "code",
   "execution_count": 156,
   "outputs": [],
   "source": [
    "# district_count.head()"
   ],
   "metadata": {
    "collapsed": false
   }
  },
  {
   "cell_type": "code",
   "execution_count": 157,
   "outputs": [],
   "source": [
    "trento = trento.join(district_count.set_index([\"nome\"]), on='nome')"
   ],
   "metadata": {
    "collapsed": false
   }
  },
  {
   "cell_type": "code",
   "execution_count": 158,
   "outputs": [],
   "source": [
    "canopy_cover = trento_trees.groupby('nome')['canopy_cover_m2'].sum().sort_values(ascending=False).reset_index(name='canopy_cover')"
   ],
   "metadata": {
    "collapsed": false
   }
  },
  {
   "cell_type": "code",
   "execution_count": 159,
   "outputs": [],
   "source": [
    "oxygen = trento_trees.groupby('nome')['oxygen_production_kg_yr'].sum().sort_values(ascending=False).reset_index(name='oxygen')"
   ],
   "metadata": {
    "collapsed": false
   }
  },
  {
   "cell_type": "code",
   "execution_count": 160,
   "outputs": [],
   "source": [
    "trento = trento.join(canopy_cover.set_index([\"nome\"]), on='nome')\n",
    "trento = trento.join(oxygen.set_index([\"nome\"]), on='nome')"
   ],
   "metadata": {
    "collapsed": false
   }
  },
  {
   "cell_type": "code",
   "execution_count": 161,
   "outputs": [],
   "source": [
    "# trento.head()"
   ],
   "metadata": {
    "collapsed": false
   }
  },
  {
   "cell_type": "code",
   "execution_count": 162,
   "outputs": [],
   "source": [
    "trento['density'] = trento['canopy_cover'] / trento['area']"
   ],
   "metadata": {
    "collapsed": false
   }
  },
  {
   "cell_type": "code",
   "execution_count": 163,
   "outputs": [
    {
     "data": {
      "text/plain": "                                            geometry      area  \\\n0  POLYGON ((11.15678 46.11661, 11.15687 46.11666...  15712181   \n1  POLYGON ((11.08026 46.11571, 11.08026 46.11571...  36949609   \n2  POLYGON ((11.09034 46.07917, 11.09032 46.07899...   8663138   \n3  POLYGON ((11.17163 46.08095, 11.17161 46.08106...  13199398   \n4  POLYGON ((11.11135 46.05878, 11.11137 46.05878...   3073349   \n\n                  nome  count  canopy_cover   oxygen   density  \n0                MEANO    206        3136.1   2961.1  0.000200  \n1              BONDONE    292        5979.6   4559.9  0.000162  \n2             SARDAGNA     38         389.2    580.5  0.000045  \n3           ARGENTARIO    454       12416.1   6848.3  0.000941  \n4  S.GIUSEPPE-S.CHIARA   3024       93333.1  51717.3  0.030369  ",
      "text/html": "<div>\n<style scoped>\n    .dataframe tbody tr th:only-of-type {\n        vertical-align: middle;\n    }\n\n    .dataframe tbody tr th {\n        vertical-align: top;\n    }\n\n    .dataframe thead th {\n        text-align: right;\n    }\n</style>\n<table border=\"1\" class=\"dataframe\">\n  <thead>\n    <tr style=\"text-align: right;\">\n      <th></th>\n      <th>geometry</th>\n      <th>area</th>\n      <th>nome</th>\n      <th>count</th>\n      <th>canopy_cover</th>\n      <th>oxygen</th>\n      <th>density</th>\n    </tr>\n  </thead>\n  <tbody>\n    <tr>\n      <th>0</th>\n      <td>POLYGON ((11.15678 46.11661, 11.15687 46.11666...</td>\n      <td>15712181</td>\n      <td>MEANO</td>\n      <td>206</td>\n      <td>3136.1</td>\n      <td>2961.1</td>\n      <td>0.000200</td>\n    </tr>\n    <tr>\n      <th>1</th>\n      <td>POLYGON ((11.08026 46.11571, 11.08026 46.11571...</td>\n      <td>36949609</td>\n      <td>BONDONE</td>\n      <td>292</td>\n      <td>5979.6</td>\n      <td>4559.9</td>\n      <td>0.000162</td>\n    </tr>\n    <tr>\n      <th>2</th>\n      <td>POLYGON ((11.09034 46.07917, 11.09032 46.07899...</td>\n      <td>8663138</td>\n      <td>SARDAGNA</td>\n      <td>38</td>\n      <td>389.2</td>\n      <td>580.5</td>\n      <td>0.000045</td>\n    </tr>\n    <tr>\n      <th>3</th>\n      <td>POLYGON ((11.17163 46.08095, 11.17161 46.08106...</td>\n      <td>13199398</td>\n      <td>ARGENTARIO</td>\n      <td>454</td>\n      <td>12416.1</td>\n      <td>6848.3</td>\n      <td>0.000941</td>\n    </tr>\n    <tr>\n      <th>4</th>\n      <td>POLYGON ((11.11135 46.05878, 11.11137 46.05878...</td>\n      <td>3073349</td>\n      <td>S.GIUSEPPE-S.CHIARA</td>\n      <td>3024</td>\n      <td>93333.1</td>\n      <td>51717.3</td>\n      <td>0.030369</td>\n    </tr>\n  </tbody>\n</table>\n</div>"
     },
     "execution_count": 163,
     "metadata": {},
     "output_type": "execute_result"
    }
   ],
   "source": [
    "trento.head()"
   ],
   "metadata": {
    "collapsed": false
   }
  },
  {
   "cell_type": "code",
   "execution_count": 164,
   "outputs": [],
   "source": [
    "trento.to_file(\"trento.geojson\", driver='GeoJSON')"
   ],
   "metadata": {
    "collapsed": false
   }
  },
  {
   "cell_type": "code",
   "execution_count": 168,
   "outputs": [
    {
     "data": {
      "text/plain": "   tree_id                 name  oxygen_production_kg_yr  canopy_cover_m2  \\\n0        1  Acer pseudoplatanus                      2.8              1.8   \n1        2  Acer pseudoplatanus                      3.0              1.8   \n2        3  Acer pseudoplatanus                      3.4              1.8   \n4        7            Cupressus                     29.5              1.8   \n5        8  Acer pseudoplatanus                      3.4              1.8   \n\n                    geometry      nome  \n0  POINT (11.07201 46.05160)  SARDAGNA  \n1  POINT (11.07211 46.05154)  SARDAGNA  \n2  POINT (11.07196 46.05167)  SARDAGNA  \n4  POINT (11.07155 46.05230)  SARDAGNA  \n5  POINT (11.07177 46.05200)  SARDAGNA  ",
      "text/html": "<div>\n<style scoped>\n    .dataframe tbody tr th:only-of-type {\n        vertical-align: middle;\n    }\n\n    .dataframe tbody tr th {\n        vertical-align: top;\n    }\n\n    .dataframe thead th {\n        text-align: right;\n    }\n</style>\n<table border=\"1\" class=\"dataframe\">\n  <thead>\n    <tr style=\"text-align: right;\">\n      <th></th>\n      <th>tree_id</th>\n      <th>name</th>\n      <th>oxygen_production_kg_yr</th>\n      <th>canopy_cover_m2</th>\n      <th>geometry</th>\n      <th>nome</th>\n    </tr>\n  </thead>\n  <tbody>\n    <tr>\n      <th>0</th>\n      <td>1</td>\n      <td>Acer pseudoplatanus</td>\n      <td>2.8</td>\n      <td>1.8</td>\n      <td>POINT (11.07201 46.05160)</td>\n      <td>SARDAGNA</td>\n    </tr>\n    <tr>\n      <th>1</th>\n      <td>2</td>\n      <td>Acer pseudoplatanus</td>\n      <td>3.0</td>\n      <td>1.8</td>\n      <td>POINT (11.07211 46.05154)</td>\n      <td>SARDAGNA</td>\n    </tr>\n    <tr>\n      <th>2</th>\n      <td>3</td>\n      <td>Acer pseudoplatanus</td>\n      <td>3.4</td>\n      <td>1.8</td>\n      <td>POINT (11.07196 46.05167)</td>\n      <td>SARDAGNA</td>\n    </tr>\n    <tr>\n      <th>4</th>\n      <td>7</td>\n      <td>Cupressus</td>\n      <td>29.5</td>\n      <td>1.8</td>\n      <td>POINT (11.07155 46.05230)</td>\n      <td>SARDAGNA</td>\n    </tr>\n    <tr>\n      <th>5</th>\n      <td>8</td>\n      <td>Acer pseudoplatanus</td>\n      <td>3.4</td>\n      <td>1.8</td>\n      <td>POINT (11.07177 46.05200)</td>\n      <td>SARDAGNA</td>\n    </tr>\n  </tbody>\n</table>\n</div>"
     },
     "execution_count": 168,
     "metadata": {},
     "output_type": "execute_result"
    }
   ],
   "source": [
    "trento_trees.head()"
   ],
   "metadata": {
    "collapsed": false
   }
  },
  {
   "cell_type": "code",
   "execution_count": 169,
   "outputs": [
    {
     "data": {
      "text/plain": "                  name                   geometry      nome\n0  Acer pseudoplatanus  POINT (11.07201 46.05160)  SARDAGNA\n1  Acer pseudoplatanus  POINT (11.07211 46.05154)  SARDAGNA\n2  Acer pseudoplatanus  POINT (11.07196 46.05167)  SARDAGNA\n4            Cupressus  POINT (11.07155 46.05230)  SARDAGNA\n5  Acer pseudoplatanus  POINT (11.07177 46.05200)  SARDAGNA",
      "text/html": "<div>\n<style scoped>\n    .dataframe tbody tr th:only-of-type {\n        vertical-align: middle;\n    }\n\n    .dataframe tbody tr th {\n        vertical-align: top;\n    }\n\n    .dataframe thead th {\n        text-align: right;\n    }\n</style>\n<table border=\"1\" class=\"dataframe\">\n  <thead>\n    <tr style=\"text-align: right;\">\n      <th></th>\n      <th>name</th>\n      <th>geometry</th>\n      <th>nome</th>\n    </tr>\n  </thead>\n  <tbody>\n    <tr>\n      <th>0</th>\n      <td>Acer pseudoplatanus</td>\n      <td>POINT (11.07201 46.05160)</td>\n      <td>SARDAGNA</td>\n    </tr>\n    <tr>\n      <th>1</th>\n      <td>Acer pseudoplatanus</td>\n      <td>POINT (11.07211 46.05154)</td>\n      <td>SARDAGNA</td>\n    </tr>\n    <tr>\n      <th>2</th>\n      <td>Acer pseudoplatanus</td>\n      <td>POINT (11.07196 46.05167)</td>\n      <td>SARDAGNA</td>\n    </tr>\n    <tr>\n      <th>4</th>\n      <td>Cupressus</td>\n      <td>POINT (11.07155 46.05230)</td>\n      <td>SARDAGNA</td>\n    </tr>\n    <tr>\n      <th>5</th>\n      <td>Acer pseudoplatanus</td>\n      <td>POINT (11.07177 46.05200)</td>\n      <td>SARDAGNA</td>\n    </tr>\n  </tbody>\n</table>\n</div>"
     },
     "execution_count": 169,
     "metadata": {},
     "output_type": "execute_result"
    }
   ],
   "source": [
    "trento_trees[['name', 'geometry', 'nome']].head()"
   ],
   "metadata": {
    "collapsed": false
   }
  },
  {
   "cell_type": "code",
   "execution_count": 171,
   "outputs": [],
   "source": [
    "trento_trees[['name', 'geometry', 'nome']].to_file(\"trento_trees.geojson\", driver='GeoJSON')"
   ],
   "metadata": {
    "collapsed": false
   }
  },
  {
   "cell_type": "code",
   "execution_count": null,
   "outputs": [],
   "source": [],
   "metadata": {
    "collapsed": false
   }
  }
 ],
 "metadata": {
  "kernelspec": {
   "display_name": "Python 3",
   "language": "python",
   "name": "python3"
  },
  "language_info": {
   "codemirror_mode": {
    "name": "ipython",
    "version": 2
   },
   "file_extension": ".py",
   "mimetype": "text/x-python",
   "name": "python",
   "nbconvert_exporter": "python",
   "pygments_lexer": "ipython2",
   "version": "2.7.6"
  }
 },
 "nbformat": 4,
 "nbformat_minor": 0
}
